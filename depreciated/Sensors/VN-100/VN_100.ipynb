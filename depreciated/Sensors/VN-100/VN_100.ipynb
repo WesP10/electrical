{
 "cells": [
  {
   "cell_type": "code",
   "execution_count": 1,
   "metadata": {},
   "outputs": [],
   "source": [
    "import pandas as pd\n",
    "import numpy as np\n",
    "from sklearn.model_selection import train_test_split\n",
    "from sklearn.naive_bayes import GaussianNB\n",
    "from sklearn.metrics import accuracy_score\n",
    "from joblib import dump, load"
   ]
  },
  {
   "cell_type": "code",
   "execution_count": 2,
   "metadata": {},
   "outputs": [
    {
     "data": {
      "text/plain": [
       "0.625"
      ]
     },
     "execution_count": 2,
     "metadata": {},
     "output_type": "execute_result"
    }
   ],
   "source": [
    "# Read csv in as dataframe\n",
    "df = pd.read_csv(\"test.txt\", header = None)\n",
    "\n",
    "# Add headers\n",
    "df.columns = [\"Y1\", \"P1\", \"R1\", \"Y2\", \"P2\", \"R2\", \"Problem\"] # Problem = 0 if there was major movement\n",
    "\n",
    "# Classifier\n",
    "features = df[[\"Y1\", \"P1\", \"R1\", \"Y2\", \"P2\", \"R2\"]]\n",
    "target = df[\"Problem\"]\n",
    "\n",
    "# Figure out what the random_state argument is\n",
    "features_train, features_test, target_train, target_test = train_test_split(features, target, \n",
    "                                                                            test_size=0.20, random_state=10)\n",
    "gnb = GaussianNB()\n",
    "pred = gnb.fit(features_train, target_train).predict(features_test)\n",
    "accuracy_score(target_test, pred, normalize = True)\n",
    "\n",
    "\n",
    "##### NEXT STEPS\n",
    "\n",
    "# Add columns with abs(new-old)\n",
    "# Construct model just using those values"
   ]
  },
  {
   "cell_type": "code",
   "execution_count": 3,
   "metadata": {},
   "outputs": [
    {
     "name": "stdout",
     "output_type": "stream",
     "text": [
      "[1]\n"
     ]
    }
   ],
   "source": [
    "print(gnb.predict([[4, 2, 5, 10, 13, 12]]))"
   ]
  },
  {
   "cell_type": "code",
   "execution_count": 4,
   "metadata": {},
   "outputs": [
    {
     "data": {
      "text/plain": [
       "['yprClassifier.joblib']"
      ]
     },
     "execution_count": 4,
     "metadata": {},
     "output_type": "execute_result"
    }
   ],
   "source": [
    "# Save model\n",
    "dump(gnb, 'yprClassifier.joblib')"
   ]
  },
  {
   "cell_type": "code",
   "execution_count": 5,
   "metadata": {},
   "outputs": [],
   "source": [
    "model = load('yprClassifier.joblib')"
   ]
  },
  {
   "cell_type": "code",
   "execution_count": 7,
   "metadata": {},
   "outputs": [
    {
     "name": "stdout",
     "output_type": "stream",
     "text": [
      "[1]\n"
     ]
    }
   ],
   "source": [
    "print(model.predict([[1, 2, 3, 4, 5, 6]]))"
   ]
  },
  {
   "cell_type": "code",
   "execution_count": null,
   "metadata": {},
   "outputs": [],
   "source": []
  }
 ],
 "metadata": {
  "kernelspec": {
   "display_name": "Python 3",
   "language": "python",
   "name": "python3"
  },
  "language_info": {
   "codemirror_mode": {
    "name": "ipython",
    "version": 3
   },
   "file_extension": ".py",
   "mimetype": "text/x-python",
   "name": "python",
   "nbconvert_exporter": "python",
   "pygments_lexer": "ipython3",
   "version": "3.6.5"
  }
 },
 "nbformat": 4,
 "nbformat_minor": 2
}
